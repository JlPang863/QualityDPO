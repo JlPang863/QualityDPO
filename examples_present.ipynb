{
 "cells": [
  {
   "cell_type": "code",
   "execution_count": 3,
   "metadata": {},
   "outputs": [],
   "source": [
    "from datasets import load_dataset\n",
    "\n",
    "\n",
    "dataset = load_dataset(\"jlpang888/ultrafeedback_sorted_score_diff\")['train']\n",
    "\n",
    "\n",
    "easy_pair_subset = dataset.select(list(range(20)))\n",
    "\n",
    "difficult_pair_subset = dataset.select(list(range(len(dataset) - 20, len(dataset))))\n"
   ]
  },
  {
   "cell_type": "code",
   "execution_count": 18,
   "metadata": {},
   "outputs": [
    {
     "data": {
      "text/plain": [
       "Dataset({\n",
       "    features: ['prompt', 'prompt_id', 'chosen', 'rejected', 'messages', 'score_chosen', 'score_rejected'],\n",
       "    num_rows: 61135\n",
       "})"
      ]
     },
     "execution_count": 18,
     "metadata": {},
     "output_type": "execute_result"
    }
   ],
   "source": [
    "dataset"
   ]
  },
  {
   "cell_type": "code",
   "execution_count": 20,
   "metadata": {},
   "outputs": [
    {
     "name": "stdout",
     "output_type": "stream",
     "text": [
      "********************\n",
      "Given the task definition, example input & output, solve the new input case.\n",
      "You are given a sentence in Italian. Your job is to translate the Italian sentence into Portugese.\n",
      "Example: Ora, lungo il percorso, George segnala che la sua tecnologia, la tecnologia della biologia sintetica, sta accelerando molto più velocemente del tasso previsto dalla Legge di Moore.\n",
      "Output: Ao longo do livro, George chama a atenção de que a sua tecnologia, a tecnologia da biologia sintética, está atualmente a acelerar a uma taxa 4 vezes superior à Lei de Moore.\n",
      "The Italian sentence is correctly translated into Portugese, because the meaning is preserved.\n",
      "\n",
      "New input case for you: E gli Stati Uniti utilizzano circa 20 milioni di barili al giorno, che rappresenta circa il 25% del petrolio utilizzato quotidianamente nel mondo.\n",
      "Output:\n",
      "\n",
      "Chosen: E os Estados Unidos utilizam cerca de 20 milhões de barris por dia, o que representa aproximadamente 25% do petróleo usado diariamente no mundo.\n",
      "Confidence: 95%\n",
      "\n",
      "Rejected: Portoghese\n"
     ]
    }
   ],
   "source": [
    "# for sample in easy_pair_subset:\n",
    "sample = easy_pair_subset[3]\n",
    "\n",
    "print(\"*\" * 20)\n",
    "print(sample['prompt'])\n",
    "print(\"\\nChosen: \" + sample['chosen'][-1]['content'])\n",
    "print(\"\\nChosen Score: \" + sample['score_chosen'])\n",
    "print(\"\\nRejected: \" + sample['rejected'][-1]['content'])"
   ]
  }
 ],
 "metadata": {
  "kernelspec": {
   "display_name": "venv",
   "language": "python",
   "name": "python3"
  },
  "language_info": {
   "codemirror_mode": {
    "name": "ipython",
    "version": 3
   },
   "file_extension": ".py",
   "mimetype": "text/x-python",
   "name": "python",
   "nbconvert_exporter": "python",
   "pygments_lexer": "ipython3",
   "version": "3.10.12"
  }
 },
 "nbformat": 4,
 "nbformat_minor": 2
}
