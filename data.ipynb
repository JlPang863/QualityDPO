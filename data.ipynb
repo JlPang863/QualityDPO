{
 "cells": [
  {
   "cell_type": "code",
   "execution_count": 1,
   "metadata": {},
   "outputs": [
    {
     "name": "stderr",
     "output_type": "stream",
     "text": [
      "/home/jlpang/QualityDPO/venv/lib/python3.10/site-packages/tqdm/auto.py:21: TqdmWarning: IProgress not found. Please update jupyter and ipywidgets. See https://ipywidgets.readthedocs.io/en/stable/user_install.html\n",
      "  from .autonotebook import tqdm as notebook_tqdm\n"
     ]
    }
   ],
   "source": [
    "from datasets import load_dataset, load_from_disk\n",
    "\n",
    "# data_path = \"/home/jlpang/QualityDPO/datasets/ultrafeedback_sorted_score_diff_60917\"\n",
    "# data_path = \"/home/jlpang/QualityDPO/datasets/ultrafeedback\"\n",
    "data_path = \"/home/jlpang/QualityDPO/datasets/ultrafeedback_sorted_score_diff_60917\"\n",
    "\n",
    "\n",
    "raw_dataset = load_from_disk(data_path)\n",
    "\n",
    "\n"
   ]
  },
  {
   "cell_type": "code",
   "execution_count": 2,
   "metadata": {},
   "outputs": [
    {
     "data": {
      "text/plain": [
       "DatasetDict({\n",
       "    train: Dataset({\n",
       "        features: ['prompt', 'chosen', 'chosen-rating', 'rejected', 'rejected-rating', 'chosen_docta_score', 'rejected_docta_score'],\n",
       "        num_rows: 60917\n",
       "    })\n",
       "    test: Dataset({\n",
       "        features: ['prompt', 'chosen', 'rejected', 'chosen-rating', 'rejected-rating', 'chosen_docta_score', 'rejected_docta_score'],\n",
       "        num_rows: 2000\n",
       "    })\n",
       "})"
      ]
     },
     "execution_count": 2,
     "metadata": {},
     "output_type": "execute_result"
    }
   ],
   "source": [
    "raw_dataset"
   ]
  },
  {
   "cell_type": "code",
   "execution_count": 16,
   "metadata": {},
   "outputs": [
    {
     "name": "stderr",
     "output_type": "stream",
     "text": [
      "Creating parquet from Arrow format: 100%|██████████| 62/62 [00:02<00:00, 20.68ba/s]\n",
      "Uploading the dataset shards: 100%|██████████| 1/1 [00:10<00:00, 10.91s/it]\n",
      "Creating parquet from Arrow format: 100%|██████████| 2/2 [00:00<00:00, 38.08ba/s]\n",
      "Uploading the dataset shards: 100%|██████████| 1/1 [00:00<00:00,  1.18it/s]\n"
     ]
    },
    {
     "data": {
      "text/plain": [
       "CommitInfo(commit_url='https://huggingface.co/datasets/jlpang888/ultrafeedback_sorted_score_diff_new1/commit/99956bd18cb56d5bcd60ff561851b7d161ce224e', commit_message='Upload dataset', commit_description='', oid='99956bd18cb56d5bcd60ff561851b7d161ce224e', pr_url=None, pr_revision=None, pr_num=None)"
      ]
     },
     "execution_count": 16,
     "metadata": {},
     "output_type": "execute_result"
    }
   ],
   "source": [
    "from datasets import load_dataset, concatenate_datasets,DatasetDict\n",
    "\n",
    "# raw_dataset = load_dataset(\"jlpang888/ultrafeedback_sorted_score_diff\")['train']\n",
    "\n",
    "\n",
    "raw_dataset = load_dataset(\"jlpang888/ultrafeedback_sorted_score_diff\")['train']\n",
    "# 18,653\n",
    "score_diff = [chosen - rejected for chosen, rejected in zip(raw_dataset['score_chosen'], raw_dataset['score_rejected'])]\n",
    "\n",
    "easy_examples_subset = raw_dataset.select(list(range(len(raw_dataset)- 18653)))\n",
    "difficult_examples_subset = raw_dataset.select(list(range(len(raw_dataset)- 18653, len(raw_dataset)))).shuffle(seed=42)\n",
    "\n",
    "\n",
    "\n",
    "merged_dataset = concatenate_datasets([difficult_examples_subset, easy_examples_subset])\n",
    "\n",
    "new_dataset = DatasetDict({\n",
    "    'train': merged_dataset,\n",
    "    'test': load_dataset(\"jlpang888/ultrafeedback_sorted_score_diff\")['test'],\n",
    "})\n",
    "\n",
    "\n",
    "# new_dataset.push_to_hub(\"jlpang888/ultrafeedback_sorted_docta_score\")\n",
    "# new_dataset.push_to_hub(\"/ultrafeedback_sorted_docta_score_swap\")\n",
    "\n",
    "new_dataset.push_to_hub(\"jlpang888/ultrafeedback_sorted_score_diff_new1\")"
   ]
  },
  {
   "cell_type": "code",
   "execution_count": 15,
   "metadata": {},
   "outputs": [
    {
     "data": {
      "text/plain": [
       "DatasetDict({\n",
       "    train: Dataset({\n",
       "        features: ['prompt', 'prompt_id', 'chosen', 'rejected', 'messages', 'score_chosen', 'score_rejected'],\n",
       "        num_rows: 61135\n",
       "    })\n",
       "    test: Dataset({\n",
       "        features: ['prompt', 'prompt_id', 'chosen', 'rejected', 'messages', 'score_chosen', 'score_rejected'],\n",
       "        num_rows: 2000\n",
       "    })\n",
       "})"
      ]
     },
     "execution_count": 15,
     "metadata": {},
     "output_type": "execute_result"
    }
   ],
   "source": [
    "new_dataset"
   ]
  },
  {
   "cell_type": "code",
   "execution_count": 12,
   "metadata": {},
   "outputs": [
    {
     "data": {
      "text/plain": [
       "0.0"
      ]
     },
     "execution_count": 12,
     "metadata": {},
     "output_type": "execute_result"
    }
   ],
   "source": [
    "score_diff[-1]"
   ]
  },
  {
   "cell_type": "code",
   "execution_count": 5,
   "metadata": {},
   "outputs": [
    {
     "data": {
      "text/plain": [
       "10.0"
      ]
     },
     "execution_count": 5,
     "metadata": {},
     "output_type": "execute_result"
    }
   ],
   "source": [
    "max(raw_dataset['score_chosen'])"
   ]
  },
  {
   "cell_type": "code",
   "execution_count": 6,
   "metadata": {},
   "outputs": [],
   "source": []
  },
  {
   "cell_type": "code",
   "execution_count": 8,
   "metadata": {},
   "outputs": [
    {
     "data": {
      "text/plain": [
       "1.0"
      ]
     },
     "execution_count": 8,
     "metadata": {},
     "output_type": "execute_result"
    }
   ],
   "source": [
    "score_diff[0]"
   ]
  },
  {
   "cell_type": "code",
   "execution_count": 13,
   "metadata": {},
   "outputs": [
    {
     "name": "stdout",
     "output_type": "stream",
     "text": [
      "Counter({1.0: 11999, 0.5: 11266, 0.0: 7387, 1.5: 6989, 2.0: 5707, 3.0: 3138, 2.5: 2890, 4.0: 2414, 5.0: 1913, 3.5: 1606, 4.5: 1579, 5.5: 1361, 6.0: 1239, 6.5: 809, 7.0: 521, 7.5: 173, 8.0: 132, 8.5: 7, 5.300000000000001: 2, 5.800000000000001: 1, 4.300000000000001: 1, 1.3000000000000007: 1})\n"
     ]
    },
    {
     "data": {
      "image/png": "[encoded data removed]",
      "text/plain": [
       "<Figure size 800x600 with 1 Axes>"
      ]
     },
     "metadata": {},
     "output_type": "display_data"
    }
   ],
   "source": [
    "import matplotlib.pyplot as plt\n",
    "from collections import Counter\n",
    "# 计算差值\n",
    "score_diff = [chosen - rejected for chosen, rejected in zip(score_chosen, score_rejected)]\n",
    "diff_counter = Counter(score_diff)\n",
    "print(diff_counter)\n",
    "# 画图\n",
    "plt.figure(figsize=(8, 6))\n",
    "plt.hist(score_diff, bins=10, color='skyblue', edgecolor='black')\n",
    "\n",
    "plt.title(\"Histogram of score_diff\", fontsize=16)\n",
    "plt.xlabel(\"Score Difference (score_chosen - score_rejected)\", fontsize=12)\n",
    "plt.ylabel(\"Frequency\", fontsize=12)\n",
    "plt.tight_layout()\n",
    "plt.show()\n"
   ]
  },
  {
   "cell_type": "code",
   "execution_count": 14,
   "metadata": {},
   "outputs": [
    {
     "data": {
      "text/plain": [
       "Counter({1.0: 11999,\n",
       "         0.5: 11266,\n",
       "         0.0: 7387,\n",
       "         1.5: 6989,\n",
       "         2.0: 5707,\n",
       "         3.0: 3138,\n",
       "         2.5: 2890,\n",
       "         4.0: 2414,\n",
       "         5.0: 1913,\n",
       "         3.5: 1606,\n",
       "         4.5: 1579,\n",
       "         5.5: 1361,\n",
       "         6.0: 1239,\n",
       "         6.5: 809,\n",
       "         7.0: 521,\n",
       "         7.5: 173,\n",
       "         8.0: 132,\n",
       "         8.5: 7,\n",
       "         5.300000000000001: 2,\n",
       "         5.800000000000001: 1,\n",
       "         4.300000000000001: 1,\n",
       "         1.3000000000000007: 1})"
      ]
     },
     "execution_count": 14,
     "metadata": {},
     "output_type": "execute_result"
    }
   ],
   "source": [
    "diff_counter"
   ]
  },
  {
   "cell_type": "code",
   "execution_count": 9,
   "metadata": {},
   "outputs": [
    {
     "name": "stderr",
     "output_type": "stream",
     "text": [
      "Creating parquet from Arrow format: 100%|██████████| 54/54 [00:01<00:00, 47.48ba/s]\n",
      "Uploading the dataset shards: 100%|██████████| 1/1 [00:08<00:00,  8.71s/it]\n",
      "Creating parquet from Arrow format: 100%|██████████| 2/2 [00:00<00:00, 31.13ba/s]\n",
      "Uploading the dataset shards: 100%|██████████| 1/1 [00:01<00:00,  1.13s/it]\n"
     ]
    },
    {
     "data": {
      "text/plain": [
       "CommitInfo(commit_url='https://huggingface.co/datasets/jlpang888/ultrafeedback_sorted_score_diff_sft_combine/commit/3960a314f01c833bdcc53f8d2f4df49e11177720', commit_message='Upload dataset', commit_description='', oid='3960a314f01c833bdcc53f8d2f4df49e11177720', pr_url=None, pr_revision=None, pr_num=None)"
      ]
     },
     "execution_count": 9,
     "metadata": {},
     "output_type": "execute_result"
    }
   ],
   "source": [
    "from datasets import load_dataset, concatenate_datasets,DatasetDict\n",
    "\n",
    "# raw_dataset = load_dataset(\"jlpang888/ultrafeedback_sorted_score_diff\")['train']\n",
    "\n",
    "\n",
    "raw_dataset = load_dataset(\"jlpang888/ultrafeedback_sorted_score_diff\")['train']\n",
    "\n",
    "score_diff = [chosen - rejected for chosen, rejected in zip(raw_dataset['score_chosen'], raw_dataset['score_rejected'])]\n",
    "\n",
    "\n",
    "\n",
    "clean_dataset = raw_dataset.select(list(range(len(raw_dataset)-7387)))\n",
    "\n",
    "\n",
    "new_dataset = DatasetDict({\n",
    "    'train': clean_dataset,\n",
    "    'test': load_dataset(\"jlpang888/ultrafeedback_sorted_score_diff\")['test'],\n",
    "})\n",
    "\n",
    "\n",
    "new_dataset.push_to_hub(\"jlpang888/ultrafeedback_sorted_score_diff_sft_combine\")"
   ]
  },
  {
   "cell_type": "code",
   "execution_count": 1,
   "metadata": {},
   "outputs": [
    {
     "name": "stderr",
     "output_type": "stream",
     "text": [
      "/home/jlpang/QualityDPO/venv/lib/python3.10/site-packages/tqdm/auto.py:21: TqdmWarning: IProgress not found. Please update jupyter and ipywidgets. See https://ipywidgets.readthedocs.io/en/stable/user_install.html\n",
      "  from .autonotebook import tqdm as notebook_tqdm\n",
      "Creating parquet from Arrow format: 100%|██████████| 62/62 [00:01<00:00, 47.44ba/s]\n",
      "Uploading the dataset shards: 100%|██████████| 1/1 [00:10<00:00, 10.36s/it]\n",
      "Creating parquet from Arrow format: 100%|██████████| 2/2 [00:00<00:00, 30.98ba/s]\n",
      "Uploading the dataset shards: 100%|██████████| 1/1 [00:00<00:00,  1.32it/s]\n"
     ]
    },
    {
     "data": {
      "text/plain": [
       "CommitInfo(commit_url='https://huggingface.co/datasets/jlpang888/ultrafeedback_sorted_score_diff_warmup/commit/1dfc0a6143fad4ba252d619dfb71a39432a73dc5', commit_message='Upload dataset', commit_description='', oid='1dfc0a6143fad4ba252d619dfb71a39432a73dc5', pr_url=None, pr_revision=None, pr_num=None)"
      ]
     },
     "execution_count": 1,
     "metadata": {},
     "output_type": "execute_result"
    }
   ],
   "source": [
    "from datasets import load_dataset, concatenate_datasets,DatasetDict\n",
    "\n",
    "# raw_dataset = load_dataset(\"jlpang888/ultrafeedback_sorted_score_diff\")['train']\n",
    "\n",
    "\n",
    "raw_dataset = load_dataset(\"jlpang888/ultrafeedback_sorted_score_diff\")['train']\n",
    "\n",
    "\n",
    "clean_dataset = raw_dataset.select(list(range(len(raw_dataset)-7387)))\n",
    "\n",
    "identical_subset = raw_dataset.select(list(range(len(raw_dataset)-7387, len(raw_dataset))))\n",
    "\n",
    "\n",
    "combined_dataset = concatenate_datasets([identical_subset, clean_dataset])\n",
    "\n",
    "new_dataset = DatasetDict({\n",
    "    'train': combined_dataset,\n",
    "    'test': load_dataset(\"jlpang888/ultrafeedback_sorted_score_diff\")['test'],\n",
    "})\n",
    "\n",
    "\n",
    "new_dataset.push_to_hub(\"jlpang888/ultrafeedback_sorted_score_diff_warmup\")"
   ]
  },
  {
   "cell_type": "code",
   "execution_count": 4,
   "metadata": {},
   "outputs": [
    {
     "data": {
      "text/plain": [
       "{'prompt': 'how to direct chi during practising taiji',\n",
       " 'prompt_id': '796e18cd2829edc3d65396a424e8f599ba63b8d069b837aedc8ef60a14830fc1',\n",
       " 'chosen': [{'content': 'how to direct chi during practising taiji',\n",
       "   'role': 'user'},\n",
       "  {'content': 'Directing chi (also spelled as qi or ch\\'i), the vital energy or life force within us, is an essential part of practicing Taiji (Tai Chi). To effectively direct chi during your practice, follow these tips and steps:\\n\\n1. **Relax and calm your mind**: Before starting your Taiji practice, find a quiet and peaceful spot. Close your eyes, take a few deep breaths, and clear your mind of any distractions. A relaxed and calm state of mind helps to direct and control the flow of chi more efficiently.\\n\\n2. **Maintain correct posture**: Proper body alignment is crucial in Taiji. Ensure your spine is straight, and your head is slightly raised as if suspended from above. Keep your shoulders relaxed and chest slightly concave. This posture allows for a smoother flow of chi through your body.\\n\\n3. **Begin with a warm-up**: Gently warm up your body through loosening exercises or Taiji-specific movements, such as the \"Wave Hands like Clouds\" or the \"Repulse Monkey\" form. These movements help to open up your joints and prepare your body for proper chi flow.\\n\\n4. **Focus on your breath**: Coordinate your breath with your movements. Generally, inhale during expansive movements and exhale during contracting movements. Pay attention to your breath, and visualize it moving through your body, guiding the energy flow.\\n\\n5. **Visualize the flow of chi**: As you practice, imagine your chi flowing continuously with your movements, following a cycle. For example, you could visualize chi flowing from your lower abdomen (Dantian) down your legs and feet, and then back up to your arms and hands; finally, direct the chi back to your Dantian.\\n\\n6. **Incorporate your intention**: Taiji practitioners often emphasize the importance of mind intent (Yi) in guiding chi. Stay mindful and focus your intention on the body part or energy flow you want to enhance.\\n\\n7. **Practice consistently**: Consistent practice is crucial for improving your ability to direct chi during your Taiji sessions. Over time, you\\'ll develop stronger connections between your mind, body, and chi.\\n\\n8. **Meditation**: Engage in meditation sessions and focus on your breath and the overall energy flow in your body. This regular practice will further improve your ability to direct chi during your Taiji sessions.\\n\\nBe patient and enjoy the process. Remember that directing chi effectively takes time and practice. As you continue to refine your Taiji practice, you\\'ll develop a deeper connection with your chi, improving its flow and harnessing its potential capacity in your daily life.',\n",
       "   'role': 'assistant'}],\n",
       " 'rejected': [{'content': 'how to direct chi during practising taiji',\n",
       "   'role': 'user'},\n",
       "  {'content': 'Tai Chi is an ancient Chinese martial art that involves slow, gentle movements, deep breathing, and mental focus. One of the key aspects of Tai Chi is the circulation of Chi (or Qi), the life energy that flows through the body. Directing Chi during Tai Chi practice is essential to enhance your overall health and well-being.\\n\\nHere are some steps to direct your Chi during Tai Chi practice:\\n\\n1. Relax: Begin by standing in a comfortable stance, with your feet shoulder-width apart, and your knees slightly bent. Allow your arms to hang relaxed by your sides, with your palms facing forward. Close your eyes and take a few deep breaths to help you relax and focus.\\n2. Align your posture: Ensure that your spine is straight but relaxed, and your head is positioned above your shoulders, with your gaze slightly lowered. Correct posture allows for the free flow of Chi throughout your body.\\n3. Breathe deeply: Breathing exercises play a crucial role in Tai Chi, as they help to regulate and balance the flow of Chi. Inhale deeply through your nose, filling your lungs completely, and then exhale slowly through your mouth. Hold your breath for a brief moment before inhaling again. This diaphragmatic breathing technique is essential in Tai Chi.\\n4. Flow with the movement: Each movement in Tai Chi has a specific purpose and energy associated with it. As you perform the movements, focus on directing your Chi through your body, visualizing it flowing through your hands, arms, and legs. Keep your movements smooth and continuous, ensuring that your mind is engaged and focused.\\n5. Visualize and intent: While performing the movements, visualize the energy flow and imagine directing the Chi to specific parts of your body where there may be blockages or stagnation. Your intent plays a vital role in guiding the Chi, so stay focused and commit to the movement.\\n6. Concentrate on your dan tian: The dan tian is the energy center below your navel, and it is the focal point for directing Chi in Tai Chi. When performing the movements, focus on your dan tian and imagine the Chi circulating around it. This will help to increase your energy and create a balance in your body.\\n7. Continue practicing: Regular practice is essential for improving your Tai Chi skills and directing your Chi more effectively. The more you practice, the better you will become at controlling and directing your energy.\\n\\nRemember, patience and persistence are key when learning to direct your Chi during Tai Chi practice. Keep practicing, and over time, you will develop a deeper understanding of your body and energy.',\n",
       "   'role': 'assistant'}],\n",
       " 'messages': [{'content': 'how to direct chi during practising taiji',\n",
       "   'role': 'user'},\n",
       "  {'content': 'Directing chi (also spelled as qi or ch\\'i), the vital energy or life force within us, is an essential part of practicing Taiji (Tai Chi). To effectively direct chi during your practice, follow these tips and steps:\\n\\n1. **Relax and calm your mind**: Before starting your Taiji practice, find a quiet and peaceful spot. Close your eyes, take a few deep breaths, and clear your mind of any distractions. A relaxed and calm state of mind helps to direct and control the flow of chi more efficiently.\\n\\n2. **Maintain correct posture**: Proper body alignment is crucial in Taiji. Ensure your spine is straight, and your head is slightly raised as if suspended from above. Keep your shoulders relaxed and chest slightly concave. This posture allows for a smoother flow of chi through your body.\\n\\n3. **Begin with a warm-up**: Gently warm up your body through loosening exercises or Taiji-specific movements, such as the \"Wave Hands like Clouds\" or the \"Repulse Monkey\" form. These movements help to open up your joints and prepare your body for proper chi flow.\\n\\n4. **Focus on your breath**: Coordinate your breath with your movements. Generally, inhale during expansive movements and exhale during contracting movements. Pay attention to your breath, and visualize it moving through your body, guiding the energy flow.\\n\\n5. **Visualize the flow of chi**: As you practice, imagine your chi flowing continuously with your movements, following a cycle. For example, you could visualize chi flowing from your lower abdomen (Dantian) down your legs and feet, and then back up to your arms and hands; finally, direct the chi back to your Dantian.\\n\\n6. **Incorporate your intention**: Taiji practitioners often emphasize the importance of mind intent (Yi) in guiding chi. Stay mindful and focus your intention on the body part or energy flow you want to enhance.\\n\\n7. **Practice consistently**: Consistent practice is crucial for improving your ability to direct chi during your Taiji sessions. Over time, you\\'ll develop stronger connections between your mind, body, and chi.\\n\\n8. **Meditation**: Engage in meditation sessions and focus on your breath and the overall energy flow in your body. This regular practice will further improve your ability to direct chi during your Taiji sessions.\\n\\nBe patient and enjoy the process. Remember that directing chi effectively takes time and practice. As you continue to refine your Taiji practice, you\\'ll develop a deeper connection with your chi, improving its flow and harnessing its potential capacity in your daily life.',\n",
       "   'role': 'assistant'}],\n",
       " 'score_chosen': 8.5,\n",
       " 'score_rejected': 8.5}"
      ]
     },
     "execution_count": 4,
     "metadata": {},
     "output_type": "execute_result"
    }
   ],
   "source": [
    "new_dataset['train'][7386]"
   ]
  },
  {
   "cell_type": "markdown",
   "metadata": {},
   "source": [
    "## Explore the potential impact of score diff under different levels"
   ]
  },
  {
   "cell_type": "code",
   "execution_count": 10,
   "metadata": {},
   "outputs": [
    {
     "name": "stderr",
     "output_type": "stream",
     "text": [
      "Creating parquet from Arrow format: 100%|██████████| 5/5 [00:00<00:00, 19.29ba/s]\n",
      "Uploading the dataset shards: 100%|██████████| 1/1 [00:02<00:00,  2.56s/it]\n",
      "Creating parquet from Arrow format: 100%|██████████| 2/2 [00:00<00:00, 32.41ba/s]\n",
      "Uploading the dataset shards: 100%|██████████| 1/1 [00:01<00:00,  1.24s/it]\n",
      "Creating parquet from Arrow format: 100%|██████████| 5/5 [00:00<00:00, 18.87ba/s]\n",
      "Uploading the dataset shards: 100%|██████████| 1/1 [00:02<00:00,  2.17s/it]\n",
      "Creating parquet from Arrow format: 100%|██████████| 2/2 [00:00<00:00, 33.34ba/s]\n",
      "Uploading the dataset shards: 100%|██████████| 1/1 [00:00<00:00,  1.21it/s]\n",
      "Creating parquet from Arrow format: 100%|██████████| 5/5 [00:00<00:00, 19.97ba/s]\n",
      "Uploading the dataset shards: 100%|██████████| 1/1 [00:01<00:00,  1.77s/it]\n",
      "Creating parquet from Arrow format: 100%|██████████| 2/2 [00:00<00:00, 33.18ba/s]\n",
      "Uploading the dataset shards: 100%|██████████| 1/1 [00:01<00:00,  1.25s/it]\n"
     ]
    },
    {
     "data": {
      "text/plain": [
       "CommitInfo(commit_url='https://huggingface.co/datasets/jlpang888/ultrafeedback_score_diff_easy_5k/commit/e2d5c58fcffdd35fb8985ca13a46bb561defcdaf', commit_message='Upload dataset', commit_description='', oid='e2d5c58fcffdd35fb8985ca13a46bb561defcdaf', pr_url=None, pr_revision=None, pr_num=None)"
      ]
     },
     "execution_count": 10,
     "metadata": {},
     "output_type": "execute_result"
    }
   ],
   "source": [
    "from datasets import load_dataset, DatasetDict\n",
    "\n",
    "# 加载数据\n",
    "raw_dataset = load_dataset(\"jlpang888/ultrafeedback_sorted_score_diff\")\n",
    "train_dataset = raw_dataset[\"train\"]\n",
    "test_dataset = raw_dataset[\"test\"]\n",
    "\n",
    "# 计算 score_diff\n",
    "score_diff = [chosen - rejected for chosen, rejected in zip(train_dataset['score_chosen'], train_dataset['score_rejected'])]\n",
    "train_dataset = train_dataset.add_column(\"score_diff\", score_diff)\n",
    "\n",
    "# 按 score_diff 选子集\n",
    "difficult_all = train_dataset.filter(lambda x: abs(x['score_diff']) < 0.5)\n",
    "middle_all = train_dataset.filter(lambda x: 2 <= abs(x['score_diff']) < 3)\n",
    "easy_all = train_dataset.filter(lambda x: abs(x['score_diff']) >= 5)\n",
    "\n",
    "# 每类取 5000 个，并移除 score_diff 列\n",
    "difficult_5k = difficult_all.shuffle(seed=42).select(range(5000)).remove_columns(['score_diff'])\n",
    "middle_5k = middle_all.shuffle(seed=42).select(range(5000)).remove_columns(['score_diff'])\n",
    "easy_5k = easy_all.shuffle(seed=42).select(range(5000)).remove_columns(['score_diff'])\n",
    "\n",
    "# 构建 DatasetDict 并上传\n",
    "DatasetDict({'train': difficult_5k, 'test': test_dataset}).push_to_hub(\"jlpang888/ultrafeedback_score_diff_difficult_5k\")\n",
    "DatasetDict({'train': middle_5k, 'test': test_dataset}).push_to_hub(\"jlpang888/ultrafeedback_score_diff_middle_5k\")\n",
    "DatasetDict({'train': easy_5k, 'test': test_dataset}).push_to_hub(\"jlpang888/ultrafeedback_score_diff_easy_5k\")\n"
   ]
  }
 ],
 "metadata": {
  "kernelspec": {
   "display_name": "venv",
   "language": "python",
   "name": "python3"
  },
  "language_info": {
   "codemirror_mode": {
    "name": "ipython",
    "version": 3
   },
   "file_extension": ".py",
   "mimetype": "text/x-python",
   "name": "python",
   "nbconvert_exporter": "python",
   "pygments_lexer": "ipython3",
   "version": "3.10.12"
  }
 },
 "nbformat": 4,
 "nbformat_minor": 2
}
