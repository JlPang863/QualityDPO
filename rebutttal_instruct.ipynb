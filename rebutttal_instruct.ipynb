{
 "cells": [
  {
   "cell_type": "markdown",
   "id": "99da61e9",
   "metadata": {},
   "source": [
    "# DPO loss "
   ]
  },
  {
   "cell_type": "code",
   "execution_count": null,
   "id": "ed061df7",
   "metadata": {},
   "outputs": [
    {
     "name": "stderr",
     "output_type": "stream",
     "text": [
      "Saving the dataset (2/2 shards): 100%|██████████████████████████████████████████████████████████████████████████████████████████████████████████████████████████████████████████████████████████████████████████████████████████████████████████████████████████████████████████████████████████████████████████████████████████████████████████████████████████████████████████████████████████████████████████████████████████████████████████████████████████████████████████████████████████████████████████████████████████████████████████████████████████████████████████████████████████████████████████████████████████████████████████████████████████████████████████████████████████████████████████████████████████████████████████████████████████████████████████████████████████████████████████████████████████████████████████████████████████████████████████████████████████████████████████████████████████████████████████████████████████████████████████████████| 59876/59876 [00:07<00:00, 8376.08 examples/s]\n",
      "Saving the dataset (1/1 shards): 100%|████████████████████████████████████████████████████████████████████████████████████████████████████████████████████████████████████████████████████████████████████████████████████████████████████████████████████████████████████████████████████████████████████████████████████████████████████████████████████████████████████████████████████████████████████████████████████████████████████████████████████████████████████████████████████████████████████████████████████████████████████████████████████████████████████████████████████████████████████████████████████████████████████████████████████████████████████████████████████████████████████████████████████████████████████████████████████████████████████████████████████████████████████████████████████████████████████████████████████████████████████████████████████████████████████████████████████████████████████████████████████████████████████████████████████| 1961/1961 [00:00<00:00, 2711.21 examples/s]\n"
     ]
    }
   ],
   "source": [
    "\n",
    "\n",
    "\n",
    "from datasets import load_dataset, DatasetDict\n",
    "import torch\n",
    "import os\n",
    "\n",
    "# dataset_name = \"princeton-nlp/mistral-instruct-ultrafeedback\"\n",
    "dataset_name = \"princeton-nlp/llama3-ultrafeedback-armorm\"\n",
    "\n",
    "train_dataset = load_dataset(dataset_name)['train']\n",
    "test_dataset = load_dataset(dataset_name)['test']\n",
    "\n",
    "\n",
    "\n",
    "dpo_losses = torch.load(f\"dpo_losses_{os.path.basename(dataset_name)}.pt\")\n",
    "dpo_losses = [t.item() for t in dpo_losses]\n",
    "\n",
    "train_dataset = train_dataset.add_column('dpo_loss', dpo_losses)\n",
    "\n",
    "\n",
    "\n",
    "\n",
    "sorted_train_dataset = train_dataset.sort(f\"dpo_loss\", reverse=False)\n",
    "\n",
    "sorted_train_dataset = sorted_train_dataset.remove_columns([column_name for column_name in sorted_train_dataset.column_names if column_name not in test_dataset.column_names ])\n",
    "\n",
    "final_dataset = DatasetDict({\n",
    "    'train': sorted_train_dataset,\n",
    "    'test': load_dataset(dataset_name)['test']\n",
    "})\n",
    "\n",
    "\n",
    "# final_dataset.push_to_hub(f\"jlpang888/{os.path.basename(dataset_name)}_sorted_dpo_loss\")\n",
    "final_dataset.save_to_disk(f\"datasets/{os.path.basename(dataset_name)}_sorted_dpo_loss\")\n",
    "\n",
    "# final_dataset.push_to_hub(f\"jlpang888/{os.path.basename(dataset_name)}_sorted_rating_score\")\n",
    "\n"
   ]
  },
  {
   "cell_type": "markdown",
   "id": "7eeaac81",
   "metadata": {},
   "source": [
    "## DPO loss sorting"
   ]
  },
  {
   "cell_type": "code",
   "execution_count": null,
   "id": "c76a22d4",
   "metadata": {},
   "outputs": [
    {
     "name": "stderr",
     "output_type": "stream",
     "text": [
      "Creating parquet from Arrow format: 100%|██████████████████████████████████████████████████████████████████████████████████████████████████████████████████████████████████████████████████████████████████████████████████████████████████████████████████████████████████████████████████████████████████████████████████████████████████████████████████████████████████████████████████████████████████████████████████████████████████████████████████████████████████████████████████████████████████████████████████████████████████████████████████████████████████████████████████████████████████████████████████████████████████████████████████████████████████████████████████████████████████████████████████████████████████████████████████████████████████████████████████████████████████████████████████████████████████████████████████████████████████████████████████████████████████████████████████████████████████████████████████████████████████████████████████████████████| 30/30 [00:02<00:00, 11.67ba/s]\n",
      "Creating parquet from Arrow format: 100%|██████████████████████████████████████████████████████████████████████████████████████████████████████████████████████████████████████████████████████████████████████████████████████████████████████████████████████████████████████████████████████████████████████████████████████████████████████████████████████████████████████████████████████████████████████████████████████████████████████████████████████████████████████████████████████████████████████████████████████████████████████████████████████████████████████████████████████████████████████████████████████████████████████████████████████████████████████████████████████████████████████████████████████████████████████████████████████████████████████████████████████████████████████████████████████████████████████████████████████████████████████████████████████████████████████████████████████████████████████████████████████████████████████████████████████████████| 30/30 [00:02<00:00, 12.13ba/s]\n",
      "Uploading the dataset shards: 100%|█████████████████████████████████████████████████████████████████████████████████████████████████████████████████████████████████████████████████████████████████████████████████████████████████████████████████████████████████████████████████████████████████████████████████████████████████████████████████████████████████████████████████████████████████████████████████████████████████████████████████████████████████████████████████████████████████████████████████████████████████████████████████████████████████████████████████████████████████████████████████████████████████████████████████████████████████████████████████████████████████████████████████████████████████████████████████████████████████████████████████████████████████████████████████████████████████████████████████████████████████████████████████████████████████████████████████████████████████████████████████████████████████████████████████████████████████| 2/2 [00:27<00:00, 13.98s/ shards]\n",
      "Creating parquet from Arrow format: 100%|████████████████████████████████████████████████████████████████████████████████████████████████████████████████████████████████████████████████████████████████████████████████████████████████████████████████████████████████████████████████████████████████████████████████████████████████████████████████████████████████████████████████████████████████████████████████████████████████████████████████████████████████████████████████████████████████████████████████████████████████████████████████████████████████████████████████████████████████████████████████████████████████████████████████████████████████████████████████████████████████████████████████████████████████████████████████████████████████████████████████████████████████████████████████████████████████████████████████████████████████████████████████████████████████████████████████████████████████████████████████████████████████████████████████████████████████| 3/3 [00:00<00:00, 22.18ba/s]\n",
      "Uploading the dataset shards: 100%|█████████████████████████████████████████████████████████████████████████████████████████████████████████████████████████████████████████████████████████████████████████████████████████████████████████████████████████████████████████████████████████████████████████████████████████████████████████████████████████████████████████████████████████████████████████████████████████████████████████████████████████████████████████████████████████████████████████████████████████████████████████████████████████████████████████████████████████████████████████████████████████████████████████████████████████████████████████████████████████████████████████████████████████████████████████████████████████████████████████████████████████████████████████████████████████████████████████████████████████████████████████████████████████████████████████████████████████████████████████████████████████████████████████████████████████████████| 1/1 [00:01<00:00,  1.98s/ shards]\n"
     ]
    },
    {
     "name": "stdout",
     "output_type": "stream",
     "text": [
      "target dpo loss: 9.1875\n"
     ]
    },
    {
     "ename": "",
     "evalue": "",
     "output_type": "error",
     "traceback": [
      "\u001b[1;31mThe Kernel crashed while executing code in the current cell or a previous cell. \n",
      "\u001b[1;31mPlease review the code in the cell(s) to identify a possible cause of the failure. \n",
      "\u001b[1;31mClick <a href='https://aka.ms/vscodeJupyterKernelCrash'>here</a> for more info. \n",
      "\u001b[1;31mView Jupyter <a href='command:jupyter.viewOutput'>log</a> for further details."
     ]
    }
   ],
   "source": [
    "from datasets import load_dataset, DatasetDict\n",
    "import torch\n",
    "import os\n",
    "\n",
    "dataset_name = \"princeton-nlp/mistral-instruct-ultrafeedback\"\n",
    "# dataset_name = \"princeton-nlp/llama3-ultrafeedback-armorm\"\n",
    "\n",
    "train_dataset = load_dataset(dataset_name)['train']\n",
    "test_dataset = load_dataset(dataset_name)['test']\n",
    "\n",
    "\n",
    "\n",
    "dpo_losses = torch.load(f\"dpo_losses_{os.path.basename(dataset_name)}.pt\")\n",
    "dpo_losses = [t.item() for t in dpo_losses]\n",
    "\n",
    "\n",
    "train_dataset = train_dataset.add_column('score_chosen', dpo_losses)\n",
    "train_dataset = train_dataset.add_column('score_rejected', [0.] * len(train_dataset))\n",
    "\n",
    "\n",
    "test_dataset = test_dataset.add_column('score_chosen', [1.] * len(test_dataset) )\n",
    "test_dataset = test_dataset.add_column('score_rejected', [0.] * len(test_dataset) )\n",
    "\n",
    "\n",
    "sorted_train_dataset = train_dataset.sort(f\"score_chosen\", reverse=False)\n",
    "\n",
    "sorted_train_dataset = sorted_train_dataset.remove_columns([column_name for column_name in sorted_train_dataset.column_names if column_name not in test_dataset.column_names ])\n",
    "\n",
    "final_dataset = DatasetDict({\n",
    "    'train': sorted_train_dataset,\n",
    "    'test': test_dataset\n",
    "})\n",
    "\n",
    "\n",
    "final_dataset.push_to_hub(f\"jlpang888/{os.path.basename(dataset_name)}_sorted_dpo_loss\")\n",
    "# final_dataset.save_to_disk(f\"datasets/{os.path.basename(dataset_name)}_sorted_dpo_loss\")\n",
    "\n",
    "# final_dataset.push_to_hub(f\"jlpang888/{os.path.basename(dataset_name)}_sorted_rating_score\")\n",
    "\n",
    "print(f\"target dpo loss: {sorted_train_dataset[int(0.9 * len(sorted_train_dataset))]['score_chosen']}\")"
   ]
  },
  {
   "cell_type": "markdown",
   "id": "5c2fb492",
   "metadata": {},
   "source": [
    "## Rating Score"
   ]
  },
  {
   "cell_type": "code",
   "execution_count": null,
   "id": "52221bc9",
   "metadata": {},
   "outputs": [
    {
     "name": "stderr",
     "output_type": "stream",
     "text": [
      "/anaconda/envs/qualtydpo/lib/python3.10/site-packages/tqdm/auto.py:21: TqdmWarning: IProgress not found. Please update jupyter and ipywidgets. See https://ipywidgets.readthedocs.io/en/stable/user_install.html\n",
      "  from .autonotebook import tqdm as notebook_tqdm\n",
      "Generating train split: 100%|██████████████████████████████████████████████████████████████████████████████████████████████████████████████████████████████████████████████████████████████████████████████████████████████████████████████████████████████████████████████████████████████████████████████████████████████████████████████████████████████████████████████████████████████████████████████████████████████████████████████████████████████████████████████████████████████████████████████████████████████████████████████████████████████████████████████████████████████████████████████████████████████████████████████████████████████████████████████████████████████████████████████████████████████████████████████████████████████████████████████████████████████████████████████████████████████████████████████████████████████████████████████████████████████████████████████████████████████████████████████████████████████████████████████████████████| 59876/59876 [00:01<00:00, 50282.72 examples/s]\n",
      "Generating test split: 100%|█████████████████████████████████████████████████████████████████████████████████████████████████████████████████████████████████████████████████████████████████████████████████████████████████████████████████████████████████████████████████████████████████████████████████████████████████████████████████████████████████████████████████████████████████████████████████████████████████████████████████████████████████████████████████████████████████████████████████████████████████████████████████████████████████████████████████████████████████████████████████████████████████████████████████████████████████████████████████████████████████████████████████████████████████████████████████████████████████████████████████████████████████████████████████████████████████████████████████████████████████████████████████████████████████████████████████████████████████████████████████████████████████████████████████████████████| 1961/1961 [00:00<00:00, 41894.76 examples/s]\n"
     ]
    },
    {
     "name": "stdout",
     "output_type": "stream",
     "text": [
      "[chosen] Score count: Counter({7: 21141, 6: 15246, 8: 14517, 5: 4322, -10: 3104, 4: 944, 9: 404, 3: 165, 2: 27, 1: 6})\n",
      "[rejected] Score count: Counter({7: 21736, 6: 15334, 8: 13335, 5: 4536, -10: 3502, 4: 963, 9: 275, 3: 159, 2: 31, 1: 5})\n"
     ]
    },
    {
     "name": "stderr",
     "output_type": "stream",
     "text": [
      "Creating parquet from Arrow format: 100%|██████████████████████████████████████████████████████████████████████████████████████████████████████████████████████████████████████████████████████████████████████████████████████████████████████████████████████████████████████████████████████████████████████████████████████████████████████████████████████████████████████████████████████████████████████████████████████████████████████████████████████████████████████████████████████████████████████████████████████████████████████████████████████████████████████████████████████████████████████████████████████████████████████████████████████████████████████████████████████████████████████████████████████████████████████████████████████████████████████████████████████████████████████████████████████████████████████████████████████████████████████████████████████████████████████████████████████████████████████████████████████████████████████████████████████████████| 30/30 [00:02<00:00, 12.60ba/s]\n",
      "Creating parquet from Arrow format: 100%|██████████████████████████████████████████████████████████████████████████████████████████████████████████████████████████████████████████████████████████████████████████████████████████████████████████████████████████████████████████████████████████████████████████████████████████████████████████████████████████████████████████████████████████████████████████████████████████████████████████████████████████████████████████████████████████████████████████████████████████████████████████████████████████████████████████████████████████████████████████████████████████████████████████████████████████████████████████████████████████████████████████████████████████████████████████████████████████████████████████████████████████████████████████████████████████████████████████████████████████████████████████████████████████████████████████████████████████████████████████████████████████████████████████████████████████████| 30/30 [00:02<00:00, 12.76ba/s]\n",
      "Uploading the dataset shards: 100%|█████████████████████████████████████████████████████████████████████████████████████████████████████████████████████████████████████████████████████████████████████████████████████████████████████████████████████████████████████████████████████████████████████████████████████████████████████████████████████████████████████████████████████████████████████████████████████████████████████████████████████████████████████████████████████████████████████████████████████████████████████████████████████████████████████████████████████████████████████████████████████████████████████████████████████████████████████████████████████████████████████████████████████████████████████████████████████████████████████████████████████████████████████████████████████████████████████████████████████████████████████████████████████████████████████████████████████████████████████████████████████████████████████████████████████████████████| 2/2 [00:30<00:00, 15.02s/ shards]\n",
      "Creating parquet from Arrow format: 100%|████████████████████████████████████████████████████████████████████████████████████████████████████████████████████████████████████████████████████████████████████████████████████████████████████████████████████████████████████████████████████████████████████████████████████████████████████████████████████████████████████████████████████████████████████████████████████████████████████████████████████████████████████████████████████████████████████████████████████████████████████████████████████████████████████████████████████████████████████████████████████████████████████████████████████████████████████████████████████████████████████████████████████████████████████████████████████████████████████████████████████████████████████████████████████████████████████████████████████████████████████████████████████████████████████████████████████████████████████████████████████████████████████████████████████████████████| 2/2 [00:00<00:00, 27.22ba/s]\n",
      "Uploading the dataset shards: 100%|█████████████████████████████████████████████████████████████████████████████████████████████████████████████████████████████████████████████████████████████████████████████████████████████████████████████████████████████████████████████████████████████████████████████████████████████████████████████████████████████████████████████████████████████████████████████████████████████████████████████████████████████████████████████████████████████████████████████████████████████████████████████████████████████████████████████████████████████████████████████████████████████████████████████████████████████████████████████████████████████████████████████████████████████████████████████████████████████████████████████████████████████████████████████████████████████████████████████████████████████████████████████████████████████████████████████████████████████████████████████████████████████████████████████████████████████████| 1/1 [00:00<00:00,  1.08 shards/s]\n"
     ]
    },
    {
     "name": "stdout",
     "output_type": "stream",
     "text": [
      "dataset name: jlpang888/llama3-ultrafeedback-armorm_sorted_rating_score\n"
     ]
    }
   ],
   "source": [
    "from datasets import load_dataset, DatasetDict\n",
    "import torch\n",
    "import os\n",
    "from collections import Counter\n",
    "\n",
    "root_data_path = \"/home/azureuser/cloudfiles/code/Users/jinlong.pang/DS2\"\n",
    "\n",
    "\n",
    "# dataset_name = \"princeton-nlp/mistral-instruct-ultrafeedback\"\n",
    "dataset_name = \"princeton-nlp/llama3-ultrafeedback-armorm\"\n",
    "\n",
    "\n",
    "\n",
    "train_dataset = load_dataset(dataset_name)['train']\n",
    "test_dataset = load_dataset(dataset_name)['test']\n",
    "\n",
    "\n",
    "tot_scores_all = {}\n",
    "for response_tag in ['chosen', 'rejected']:\n",
    "    if 'mistral' in dataset_name:\n",
    "        path_file = f\"{root_data_path}/scoring_outputgpt-4o-mini/mistral-ultrafeedback/{response_tag}\"\n",
    "    else:\n",
    "        path_file = f\"{root_data_path}/scoring_outputgpt-4o-mini/llama3-ultrafeedback/{response_tag}\"\n",
    "\n",
    "    file_names = os.listdir(path_file)\n",
    "    existing_index = [f for f in file_names if 'output_scores_' in f]\n",
    "\n",
    "    tot_scores = []\n",
    "    for idx in range(len(existing_index)):\n",
    "        file_path = os.path.join(path_file, f\"output_scores_{idx}.pt\")\n",
    "        if os.path.exists(file_path):\n",
    "            batch_scores = torch.load(file_path)\n",
    "            tot_scores.extend(batch_scores)\n",
    "\n",
    "    # 替换 None 为 0\n",
    "    tot_scores = [-10 if score is None or score == 0 else score for score in tot_scores]\n",
    "    tot_scores_all[response_tag] = tot_scores\n",
    "\n",
    "    print(f\"[{response_tag}] Score count: {Counter(tot_scores)}\")\n",
    "\n",
    "\n",
    "\n",
    "# 计算分数差\n",
    "\n",
    "score_diff = [c - r for c, r in zip(tot_scores_all['chosen'], tot_scores_all['rejected'])]\n",
    " \n",
    "\n",
    "train_dataset = train_dataset.add_column('score_chosen', tot_scores_all['chosen'])\n",
    "train_dataset = train_dataset.add_column('score_rejected', tot_scores_all['rejected'])\n",
    "train_dataset = train_dataset.add_column('score_diff', score_diff)\n",
    "\n",
    "test_dataset = test_dataset.add_column('score_chosen', [int(1)] * len(test_dataset) )\n",
    "test_dataset = test_dataset.add_column('score_rejected', [int(0)] * len(test_dataset) )\n",
    "\n",
    "sorted_train_dataset = train_dataset.sort(f\"score_diff\", reverse=True)\n",
    "\n",
    "sorted_train_dataset = sorted_train_dataset.remove_columns([column_name for column_name in sorted_train_dataset.column_names if column_name not in test_dataset.column_names ])\n",
    "\n",
    "final_dataset = DatasetDict({\n",
    "    'train': sorted_train_dataset,\n",
    "    'test': test_dataset\n",
    "})\n",
    "\n",
    "\n",
    "final_dataset.push_to_hub(f\"jlpang888/{os.path.basename(dataset_name)}_sorted_rating_score\")\n",
    "\n",
    "print(f\"dataset name: jlpang888/{os.path.basename(dataset_name)}_sorted_rating_score\")\n"
   ]
  },
  {
   "cell_type": "markdown",
   "id": "321b8f4a",
   "metadata": {},
   "source": [
    "## Original Reward Score"
   ]
  },
  {
   "cell_type": "code",
   "execution_count": null,
   "id": "eb60697d",
   "metadata": {},
   "outputs": [],
   "source": [
    "\n",
    "\n",
    "\n",
    "from datasets import load_dataset, DatasetDict\n",
    "import torch\n",
    "import os\n",
    "\n",
    "dataset_name = \"princeton-nlp/mistral-instruct-ultrafeedback\"\n",
    "# dataset_name = \"princeton-nlp/llama3-ultrafeedback-armorm\"\n",
    "\n",
    "train_dataset = load_dataset(dataset_name)['train']\n",
    "test_dataset = load_dataset(dataset_name)['test']\n",
    "\n",
    "\n",
    "score_chosen = []\n",
    "score_rejected = []\n",
    "for sample in train_dataset:\n",
    "    chosen_repsonse = sample['chosen'][-1]['content']\n",
    "    rejected_repsonse = sample['rejected'][-1]['content']\n",
    "\n",
    "    chosen_rm_score = None \n",
    "    rejected_rm_score = None\n",
    "    missing_sample_idx = []\n",
    "    for idx, response in enumerate(sample['all_generated_responses']):\n",
    "        if response == chosen_repsonse:\n",
    "            chosen_rm_score = sample['all_rm_scores'][idx]\n",
    "        if response == rejected_repsonse:\n",
    "            rejected_rm_score = sample['all_rm_scores'][idx]\n",
    "            \n",
    "    if chosen_rm_score is None or rejected_rm_score is None:\n",
    "        missing_sample_idx.append(idx)\n",
    "        # print(f\"not match response: {idx}\")\n",
    "    score_chosen.append(chosen_rm_score)\n",
    "    score_rejected.append(rejected_rm_score)\n",
    "\n",
    "\n",
    "score_diff = [c - r for c, r in zip(score_chosen, score_rejected)]\n",
    "\n",
    "train_dataset = train_dataset.add_column('score_chosen', score_chosen)\n",
    "train_dataset = train_dataset.add_column('score_rejected', score_rejected)\n",
    "train_dataset = train_dataset.add_column('score_diff', score_diff)\n",
    "\n",
    "\n",
    "sorted_train_dataset = train_dataset.sort(f\"score_diff\", reverse=True)\n",
    "\n",
    "test_dataset = test_dataset.add_column('score_chosen', [float(1)] * len(test_dataset) )\n",
    "test_dataset = test_dataset.add_column('score_rejected', [float(0)] * len(test_dataset) )\n",
    "\n",
    "\n",
    "sorted_train_dataset = sorted_train_dataset.remove_columns([column_name for column_name in sorted_train_dataset.column_names if column_name not in test_dataset.column_names ])\n",
    "\n",
    "final_dataset = DatasetDict({\n",
    "    'train': sorted_train_dataset,\n",
    "    'test': test_dataset\n",
    "})\n",
    "\n",
    "\n",
    "\n",
    "final_dataset.push_to_hub(f\"jlpang888/{os.path.basename(dataset_name)}_sorted_rm_score\")\n",
    "\n",
    "\n",
    "print(f\"jlpang888/{os.path.basename(dataset_name)}_sorted_rm_score\")\n"
   ]
  },
  {
   "cell_type": "code",
   "execution_count": 29,
   "id": "e5d4a1ea",
   "metadata": {},
   "outputs": [
    {
     "data": {
      "text/plain": [
       "{'prompt_id': 'ec39d34c20179b2d585bf5c1f42a78152187e3f08f06df8a58b51d78e07c0d06',\n",
       " 'prompt': 'Summorize the movie Beer from 1985',\n",
       " 'chosen': [{'content': 'Summorize the movie Beer from 1985', 'role': 'user'},\n",
       "  {'content': '\"Beer,\" also known as \"Three Wishes\" or \"Der Dritte Wunsch\" in its original German title, is a 1985 West German comedy film directed by Hannes Sturm. The movie tells the story of a man named Ludwig (Heinz Bennent), a hardworking and responsible family man who leads a monotonous life. One day, while working at his brewery, he discovers a magical barrel of beer that grants three wishes to whoever drinks from it.\\n\\nLudwig, frustrated with his mundane existence, makes his first wish for wealth, which brings him instant financial success. However, he soon realizes that money brings its own problems and he misses the simple joys of his old life. For his second wish, he asks for love and finds himself courted by numerous women. But he eventually realizes that true love comes from within and not from external sources.\\n\\nFor his third and final wish, Ludwig asks for wisdom, hoping to learn how to avoid the pitfalls of his previous two wishes. He meets a wise old man who teaches him the value of contentment and living in the moment. Ludwig returns to his brewery, having learned his lesson, and shares the magical beer with his friends and family, spreading happiness and joy around him.\\n\\nThe film explores themes of materialism, love, and the pursuit of happiness, and features a light-hearted and humorous approach to the magical realism genre. The cast includes Heinz Bennent, Inge Meysel, and Gisela Trowe, among others. Overall, \"Beer\" is a feel-good movie that reminds us that true happiness comes from within and not from external sources.',\n",
       "   'role': 'assistant'}],\n",
       " 'rejected': [{'content': 'Summorize the movie Beer from 1985',\n",
       "   'role': 'user'},\n",
       "  {'content': '\"Beer,\" also known as \"Brewster\\'s Millions,\" is a 1985 American comedy film directed by Walton and Marc Lawrence. The movie is an adaptation of the 1902 novel of the same name by George Barr McCutcheon and the 1945 film of the same name. The story revolves around the character of Monty Brewster, played by Richard Pryor, a minor league baseball player with the unfortunate nickname \"The Million Dollar Baby.\"\\n\\nIn the film, Monty Brewster receives a letter from an unknown benefactor, informing him that he stands to inherit $300 million if he can spend $30 million within 30 days without saving any of it. Initially skeptical, Monty eventually decides to accept the challenge as a means of getting out of his mundane life and helping his family, who are struggling financially.\\n\\nMonty sets out to spend the money in outrageous ways, including buying a professional baseball team, hiring an orchestra, and even attempting to buy an island. However, every time he comes close to spending the last dollar, he finds that some unforeseen circumstance prevents him from doing so. Monty becomes increasingly desperate to meet the deadline and spend all the money, all while avoiding the attention of the media and the IRS.\\n\\nIn the end, Monty manages to spend all the money, but not a moment too soon. As the clock strikes midnight on the final day, he collapses in exhaustion, relieved that he has met the challenge. The movie ends with Monty reflecting on the experience and realizing that, while the money was fun to spend, the real richness in life comes from the people and experiences that truly matter.\\n\\nDespite its comedic premise, \"Beer\" explores themes of wealth, greed, and the true meaning of riches. It is a fast-paced and entertaining film that showcases the charisma and comedic timing of Richard Pryor, as well as the supporting cast, which includes Judy Cornwell, Lonette McKee, and Arnold Schwarzenegger.',\n",
       "   'role': 'assistant'}],\n",
       " 'all_generated_responses': ['\"Beer,\" also known as \"Three Wishes\" or \"Der Dritte Wunsch\" in its original German title, is a 1985 West German comedy film directed by Hannes Sturm. The movie tells the story of a man named Ludwig (Heinz Bennent), a hardworking and responsible family man who leads a monotonous life. One day, while working at his brewery, he discovers a magical barrel of beer that grants three wishes to whoever drinks from it.\\n\\nLudwig, frustrated with his mundane existence, makes his first wish for wealth, which brings him instant financial success. However, he soon realizes that money brings its own problems and he misses the simple joys of his old life. For his second wish, he asks for love and finds himself courted by numerous women. But he eventually realizes that true love comes from within and not from external sources.\\n\\nFor his third and final wish, Ludwig asks for wisdom, hoping to learn how to avoid the pitfalls of his previous two wishes. He meets a wise old man who teaches him the value of contentment and living in the moment. Ludwig returns to his brewery, having learned his lesson, and shares the magical beer with his friends and family, spreading happiness and joy around him.\\n\\nThe film explores themes of materialism, love, and the pursuit of happiness, and features a light-hearted and humorous approach to the magical realism genre. The cast includes Heinz Bennent, Inge Meysel, and Gisela Trowe, among others. Overall, \"Beer\" is a feel-good movie that reminds us that true happiness comes from within and not from external sources.',\n",
       "  '\"Beer,\" also known as \"Brewster\\'s Millions,\" is a 1985 American comedy film based on the 1902 novel of the same name by George Barr McCutcheon and its 1945 film adaptation. The movie stars Richard Pryor as Monty Brewster, a minor league baseball player who inherits $300 million from an eccentric uncle under the condition that he must spend $30 million in 30 days without saving any of it, or he forfeits the inheritance.\\n\\nMonty initially struggles to spend the money quickly, but with the help of his friend Henry Longfellow Higgins III (Arthur Schlesinger Jr.), they come up with a scheme to buy and sell shares in a beer company, Brewster\\'s Millions Brewing Company. They intentionally sabotage the company to drive down the stock price, then buy it back at a bargain price.\\n\\nThe plan works, and Monty becomes a billionaire, but the media finds out about the scheme, and Monty is accused of insider trading. Monty and Higgins are forced to go into hiding while they try to clear their names. In the end, they are able to prove their innocence, and Monty is rewarded with the inheritance.\\n\\nThe film also explores themes of greed and material wealth, as Monty learns that having money doesn\\'t necessarily make him happier or more fulfilled. The cast includes other notable actors such as Lonny Chapman, Ed Begley Jr., and Jennifer Tilly in her film debut.\\n\\n\"Beer\" received mixed reviews from critics, with some praising the performances and others finding the plot too predictable. Despite this, it was a moderate box office success and has since gained a cult following.',\n",
       "  '\"Beer,\" also known as \"Brewster\\'s Millions,\" is a 1985 American comedy film directed by Walton and Marc Lawrence. The movie is an adaptation of the 1902 novel of the same name by George Barr McCutcheon and the 1945 film of the same name. The story revolves around the character of Monty Brewster, played by Richard Pryor, a minor league baseball player with the unfortunate nickname \"The Million Dollar Baby.\"\\n\\nIn the film, Monty Brewster receives a letter from an unknown benefactor, informing him that he stands to inherit $300 million if he can spend $30 million within 30 days without saving any of it. Initially skeptical, Monty eventually decides to accept the challenge as a means of getting out of his mundane life and helping his family, who are struggling financially.\\n\\nMonty sets out to spend the money in outrageous ways, including buying a professional baseball team, hiring an orchestra, and even attempting to buy an island. However, every time he comes close to spending the last dollar, he finds that some unforeseen circumstance prevents him from doing so. Monty becomes increasingly desperate to meet the deadline and spend all the money, all while avoiding the attention of the media and the IRS.\\n\\nIn the end, Monty manages to spend all the money, but not a moment too soon. As the clock strikes midnight on the final day, he collapses in exhaustion, relieved that he has met the challenge. The movie ends with Monty reflecting on the experience and realizing that, while the money was fun to spend, the real richness in life comes from the people and experiences that truly matter.\\n\\nDespite its comedic premise, \"Beer\" explores themes of wealth, greed, and the true meaning of riches. It is a fast-paced and entertaining film that showcases the charisma and comedic timing of Richard Pryor, as well as the supporting cast, which includes Judy Cornwell, Lonette McKee, and Arnold Schwarzenegger.',\n",
       "  '\"Beer,\" also known as \"Brewster\\'s Millions,\" is a 1985 American comedy film directed by Walton and Marc Lawrence, based on the 1902 novel of the same name by George Barr McCutcheon and its 1945 film adaptation. The story revolves around the character of Monty Brewster (played by Richard Pryor), a minor league baseball player who inherits $300 million from an eccentric uncle on the condition that he must spend $30 million within thirty days or lose the entire inheritance.\\n\\nThe film opens with Monty receiving the news of his inheritance and being introduced to the terms of the will by his uncle\\'s lawyer, Mr. Lonigan (played by Walter Matthau). Monty is initially excited about the prospect of the money but soon realizes the challenge of spending $30 million in such a short amount of time.\\n\\nMonty comes up with a plan to spend the money on building a new baseball stadium and signing well-known baseball players. However, things don\\'t go as planned as the players he approaches demand exorbitant salaries and the stadium construction runs into delays.\\n\\nMonty then decides to hire a group of con artists, led by the charming and manipulative Spike (played by Eddie Murphy), to help him spend the money. Together, they come up with a series of elaborate and outlandish schemes to part Monty with his money, including buying a fleet of limousines, renting a yacht, and even buying an entire island.\\n\\nAs Monty\\'s spending spree continues, he begins to develop feelings for a woman named Gwen Millfield (played by Lori Singer), who is unaware of his true identity and wealth. Monty struggles with the guilt of deceiving her and the realization that he may have lost sight of what truly matters in life.\\n\\nEventually, Monty comes to the conclusion that he cannot spend the money in the way the will demands and decides to return it to his uncle\\'s estate. However, Mr. Lonigan reveals that the entire inheritance was a test, and Monty has actually inherited the full $300 million.\\n\\nThe film ends with Monty and Gwen driving off into the sunset together, with Monty reflecting on the lessons he has learned throughout the experience. \"Beer\" is a classic comedy of errors that explores themes of wealth, materialism, and the true value of relationships.',\n",
       "  '\"Beer,\" also known as \"Brewster\\'s Millions,\" is a 1985 American comedy film directed by Walter Hill, based on the novel of the same name by George Barr McCutcheon and its various film adaptations. The primary cast includes Richard Pryor, Lonette McKee, Clarence Williams III, and Tab Hunter.\\n\\nThe story revolves around Monty Brewster, a minor league baseball player who is informed by his recently deceased, wealthy great-uncle Pete that he will inherit a vast fortune on the condition that he spends $30 million within 30 days without saving any of it. Initially, Monty is skeptical but decides to accept the challenge to prove his financial responsibility to his girlfriend Dorothy. He comes up with various ways to spend the money, including buying a baseball team, constructing a skyscraper, and investing in the stock market. However, he faces numerous challenges, including the scrutiny of the media, attempts by unscrupulous individuals to take advantage of him, and the unexpected arrival of Pete\\'s disapproving lawyer.\\n\\nAs the deadline approaches, Monty becomes increasingly desperate and reckless, causing chaos and destruction in the process. Eventually, he learns that his great-uncle\\'s will contained a hidden clause: if Monty could prove himself worthy of the fortune by spending it wisely, he would receive an additional $70 million. With this newfound knowledge, Monty manages to turn his fortune around and saves the day.\\n\\nDespite its comedic premise, \"Beer\" explores themes of responsibility, wealth, and self-worth. Richard Pryor\\'s energetic performance and the film\\'s fast-paced, zany tone make for an enjoyable and entertaining watch.'],\n",
       " 'all_rm_scores': [13.18757438659668,\n",
       "  -4.554845333099365,\n",
       "  -12.39618968963623,\n",
       "  1.8152090311050415,\n",
       "  1.948251724243164],\n",
       " 'score_chosen': 13.18757438659668,\n",
       " 'score_rejected': -12.39618968963623,\n",
       " 'score_diff': 25.58376407623291}"
      ]
     },
     "execution_count": 29,
     "metadata": {},
     "output_type": "execute_result"
    }
   ],
   "source": [
    "train_dataset[1]"
   ]
  },
  {
   "cell_type": "code",
   "execution_count": 30,
   "id": "fd36a037",
   "metadata": {},
   "outputs": [
    {
     "data": {
      "image/png": "[encoded data removed]",
      "text/plain": [
       "<Figure size 800x500 with 1 Axes>"
      ]
     },
     "metadata": {},
     "output_type": "display_data"
    }
   ],
   "source": [
    "import matplotlib.pyplot as plt\n",
    "import seaborn as sns\n",
    "\n",
    "# 假设 score_diff 是一个列表或 Pandas Series\n",
    "# 示例数据\n",
    "# score_diff = [1.2, -0.3, 0.8, 2.5, -1.0, 0.4, ...]\n",
    "\n",
    "plt.figure(figsize=(8, 5))\n",
    "sns.histplot(score_diff, kde=True, bins=30, color='skyblue')\n",
    "plt.title(\"Distribution of score_diff\")\n",
    "plt.xlabel(\"Score Difference\")\n",
    "plt.ylabel(\"Frequency\")\n",
    "plt.xlim(0,  10)\n",
    "plt.grid(True)\n",
    "plt.tight_layout()\n",
    "plt.show()\n"
   ]
  },
  {
   "cell_type": "code",
   "execution_count": 32,
   "id": "4cefcc57",
   "metadata": {},
   "outputs": [
    {
     "data": {
      "text/plain": [
       "5.078502893447876"
      ]
     },
     "execution_count": 32,
     "metadata": {},
     "output_type": "execute_result"
    }
   ],
   "source": [
    "target_sample = sorted_train_dataset[int(0.9 * (len(sorted_train_dataset)))]\n",
    "\n",
    "\n",
    "target_score_diff = target_sample['score_chosen'] - target_sample['score_rejected']\n",
    "target_score_diff"
   ]
  },
  {
   "cell_type": "code",
   "execution_count": 16,
   "id": "4eeb6416",
   "metadata": {},
   "outputs": [
    {
     "data": {
      "text/plain": [
       "0.0"
      ]
     },
     "execution_count": 16,
     "metadata": {},
     "output_type": "execute_result"
    }
   ],
   "source": [
    "sum(score_diff)"
   ]
  },
  {
   "cell_type": "code",
   "execution_count": 2,
   "id": "6cab25dc",
   "metadata": {},
   "outputs": [
    {
     "name": "stderr",
     "output_type": "stream",
     "text": [
      "Creating parquet from Arrow format: 100%|██████████████████████████████████████████████████████████████████████████████████████████████████████████████████████████████████████████████████████████████████████████████████████████████████████████████████████████████████████████████████████████████████████████████████████████████████████████████████████████████████████████████████████████████████████████████████████████████████████████████████████████████████████████████████████████████████████████████████████████████████████████████████████████████████████████████████████████████████████████████████████████████████████████████████████████████████████████████████████████████████████████████████████████████████████████████████████████████████████████████████████████████████████████████████████████████████████████████████████████████████████████████████████████████████████████████████████████████████████████████████████████████████████████████████████████████| 62/62 [00:01<00:00, 49.03ba/s]\n",
      "Uploading the dataset shards: 100%|█████████████████████████████████████████████████████████████████████████████████████████████████████████████████████████████████████████████████████████████████████████████████████████████████████████████████████████████████████████████████████████████████████████████████████████████████████████████████████████████████████████████████████████████████████████████████████████████████████████████████████████████████████████████████████████████████████████████████████████████████████████████████████████████████████████████████████████████████████████████████████████████████████████████████████████████████████████████████████████████████████████████████████████████████████████████████████████████████████████████████████████████████████████████████████████████████████████████████████████████████████████████████████████████████████████████████████████████████████████████████████████████████████████████████████████████████| 1/1 [00:16<00:00, 16.21s/ shards]\n",
      "Creating parquet from Arrow format: 100%|████████████████████████████████████████████████████████████████████████████████████████████████████████████████████████████████████████████████████████████████████████████████████████████████████████████████████████████████████████████████████████████████████████████████████████████████████████████████████████████████████████████████████████████████████████████████████████████████████████████████████████████████████████████████████████████████████████████████████████████████████████████████████████████████████████████████████████████████████████████████████████████████████████████████████████████████████████████████████████████████████████████████████████████████████████████████████████████████████████████████████████████████████████████████████████████████████████████████████████████████████████████████████████████████████████████████████████████████████████████████████████████████████████████████████████████████| 2/2 [00:00<00:00, 48.91ba/s]\n",
      "Uploading the dataset shards: 100%|█████████████████████████████████████████████████████████████████████████████████████████████████████████████████████████████████████████████████████████████████████████████████████████████████████████████████████████████████████████████████████████████████████████████████████████████████████████████████████████████████████████████████████████████████████████████████████████████████████████████████████████████████████████████████████████████████████████████████████████████████████████████████████████████████████████████████████████████████████████████████████████████████████████████████████████████████████████████████████████████████████████████████████████████████████████████████████████████████████████████████████████████████████████████████████████████████████████████████████████████████████████████████████████████████████████████████████████████████████████████████████████████████████████████████████████████████| 1/1 [00:00<00:00,  1.22 shards/s]\n"
     ]
    },
    {
     "data": {
      "text/plain": [
       "CommitInfo(commit_url='https://huggingface.co/datasets/jlpang888/ultrafeedback_sorted_score_diff_10perc_swap/commit/6b412eebd7423c6a56e6aeb9cc1b77cfd33c1b74', commit_message='Upload dataset', commit_description='', oid='6b412eebd7423c6a56e6aeb9cc1b77cfd33c1b74', pr_url=None, pr_revision=None, pr_num=None)"
      ]
     },
     "execution_count": 2,
     "metadata": {},
     "output_type": "execute_result"
    }
   ],
   "source": [
    "from datasets import load_dataset, concatenate_datasets, DatasetDict\n",
    "\n",
    "\n",
    "train_dataset = load_dataset(\"jlpang888/ultrafeedback_sorted_score_diff\")['train']\n",
    "\n",
    "test_dataset = load_dataset(\"jlpang888/ultrafeedback_sorted_score_diff\")['test']\n",
    "\n",
    "\n",
    "\n",
    "# 计算分界点\n",
    "n_total = len(train_dataset)\n",
    "n_80 = int(n_total * 0.8)\n",
    "n_90 = int(n_total * 0.9)\n",
    "\n",
    "# 切片\n",
    "first_80 = train_dataset.select(range(0, n_80))\n",
    "slice_80_90 = train_dataset.select(range(n_80, n_90))\n",
    "slice_90_100 = train_dataset.select(range(n_90, n_total))\n",
    "\n",
    "# 对调这两部分\n",
    "swapped_tail = concatenate_datasets([slice_90_100, slice_80_90])\n",
    "\n",
    "# 组合成新的 train 数据集\n",
    "new_train_dataset = concatenate_datasets([first_80, swapped_tail])\n",
    "\n",
    "\n",
    "\n",
    "final_dataset = DatasetDict({\n",
    "    'train': new_train_dataset,\n",
    "    'test': test_dataset\n",
    "})\n",
    "\n",
    "final_dataset.push_to_hub(f\"jlpang888/ultrafeedback_sorted_score_diff_10perc_swap\")\n",
    "\n"
   ]
  },
  {
   "cell_type": "code",
   "execution_count": null,
   "id": "aed5209e",
   "metadata": {},
   "outputs": [],
   "source": [
    "from datasets import load_dataset, concatenate_datasets, DatasetDict\n",
    "\n",
    "# 加载数据集\n",
    "dataset = load_dataset(\"jlpang888/ultrafeedback_sorted_score_diff\")\n",
    "train_dataset = dataset['train']\n",
    "test_dataset = dataset['test']\n",
    "\n",
    "# 计算分界点\n",
    "n_total = len(train_dataset)\n",
    "n_85 = int(n_total * 0.85)\n",
    "n_90 = int(n_total * 0.90)\n",
    "n_95 = int(n_total * 0.95)\n",
    "\n",
    "# 切片\n",
    "first_85 = train_dataset.select(range(0, n_85))\n",
    "slice_85_90 = train_dataset.select(range(n_85, n_90))\n",
    "slice_90_95 = train_dataset.select(range(n_90, n_95))\n",
    "rest_95_100 = train_dataset.select(range(n_95, n_total))\n",
    "\n",
    "# 对调两段：85-90 和 90-95\n",
    "swapped_middle = concatenate_datasets([slice_90_95, slice_85_90])\n",
    "\n",
    "# 拼接：0-85 + (90-95, 85-90) + 95-100\n",
    "new_train_dataset = concatenate_datasets([first_85, swapped_middle, rest_95_100])\n",
    "\n",
    "# 构造新的 DatasetDict 并上传\n",
    "final_dataset = DatasetDict({\n",
    "    'train': new_train_dataset,\n",
    "    'test': test_dataset\n",
    "})\n",
    "\n",
    "final_dataset.push_to_hub(\"jlpang888/ultrafeedback_sorted_score_diff_5perc_swap\")\n"
   ]
  }
 ],
 "metadata": {
  "kernelspec": {
   "display_name": "qualtydpo",
   "language": "python",
   "name": "python3"
  },
  "language_info": {
   "codemirror_mode": {
    "name": "ipython",
    "version": 3
   },
   "file_extension": ".py",
   "mimetype": "text/x-python",
   "name": "python",
   "nbconvert_exporter": "python",
   "pygments_lexer": "ipython3",
   "version": "3.10.14"
  }
 },
 "nbformat": 4,
 "nbformat_minor": 5
}
