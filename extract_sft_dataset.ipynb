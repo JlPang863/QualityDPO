{
 "cells": [
  {
   "cell_type": "code",
   "execution_count": 1,
   "metadata": {},
   "outputs": [
    {
     "name": "stderr",
     "output_type": "stream",
     "text": [
      "/home/jlpang/QualityDPO/venv/lib/python3.10/site-packages/tqdm/auto.py:21: TqdmWarning: IProgress not found. Please update jupyter and ipywidgets. See https://ipywidgets.readthedocs.io/en/stable/user_install.html\n",
      "  from .autonotebook import tqdm as notebook_tqdm\n"
     ]
    },
    {
     "ename": "KeyError",
     "evalue": "'train'",
     "output_type": "error",
     "traceback": [
      "\u001b[0;31m---------------------------------------------------------------------------\u001b[0m",
      "\u001b[0;31mKeyError\u001b[0m                                  Traceback (most recent call last)",
      "\u001b[1;32m/home/jlpang/QualityDPO/extract_sft_dataset.ipynb 单元格 1\u001b[0m line \u001b[0;36m6\n\u001b[1;32m      <a href='vscode-notebook-cell://ssh-remote%2B192.168.1.7/home/jlpang/QualityDPO/extract_sft_dataset.ipynb#W0sdnNjb2RlLXJlbW90ZQ%3D%3D?line=0'>1</a>\u001b[0m \u001b[39mfrom\u001b[39;00m\u001b[39m \u001b[39m\u001b[39mdatasets\u001b[39;00m\u001b[39m \u001b[39m\u001b[39mimport\u001b[39;00m load_dataset, load_from_disk, DatasetDict, Dataset\n\u001b[1;32m      <a href='vscode-notebook-cell://ssh-remote%2B192.168.1.7/home/jlpang/QualityDPO/extract_sft_dataset.ipynb#W0sdnNjb2RlLXJlbW90ZQ%3D%3D?line=3'>4</a>\u001b[0m dataset_name \u001b[39m=\u001b[39m \u001b[39m\"\u001b[39m\u001b[39mHuggingFaceH4/ultrafeedback_binarized\u001b[39m\u001b[39m\"\u001b[39m\n\u001b[0;32m----> <a href='vscode-notebook-cell://ssh-remote%2B192.168.1.7/home/jlpang/QualityDPO/extract_sft_dataset.ipynb#W0sdnNjb2RlLXJlbW90ZQ%3D%3D?line=5'>6</a>\u001b[0m raw_dataset \u001b[39m=\u001b[39m load_dataset(dataset_name)[\u001b[39m'\u001b[39;49m\u001b[39mtrain\u001b[39;49m\u001b[39m'\u001b[39;49m]\n\u001b[1;32m      <a href='vscode-notebook-cell://ssh-remote%2B192.168.1.7/home/jlpang/QualityDPO/extract_sft_dataset.ipynb#W0sdnNjb2RlLXJlbW90ZQ%3D%3D?line=6'>7</a>\u001b[0m test_dataset \u001b[39m=\u001b[39m load_dataset(dataset_name)[\u001b[39m'\u001b[39m\u001b[39mtest\u001b[39m\u001b[39m'\u001b[39m]\n\u001b[1;32m     <a href='vscode-notebook-cell://ssh-remote%2B192.168.1.7/home/jlpang/QualityDPO/extract_sft_dataset.ipynb#W0sdnNjb2RlLXJlbW90ZQ%3D%3D?line=9'>10</a>\u001b[0m \u001b[39m# raw_dataset = Dataset.from_dict({\u001b[39;00m\n\u001b[1;32m     <a href='vscode-notebook-cell://ssh-remote%2B192.168.1.7/home/jlpang/QualityDPO/extract_sft_dataset.ipynb#W0sdnNjb2RlLXJlbW90ZQ%3D%3D?line=10'>11</a>\u001b[0m \u001b[39m#     'prompt': raw_dataset['prompt'] *2,\u001b[39;00m\n\u001b[1;32m     <a href='vscode-notebook-cell://ssh-remote%2B192.168.1.7/home/jlpang/QualityDPO/extract_sft_dataset.ipynb#W0sdnNjb2RlLXJlbW90ZQ%3D%3D?line=11'>12</a>\u001b[0m \u001b[39m#     'prompt_id': list(range(len(raw_dataset['prompt'] *2))),\u001b[39;00m\n\u001b[1;32m     <a href='vscode-notebook-cell://ssh-remote%2B192.168.1.7/home/jlpang/QualityDPO/extract_sft_dataset.ipynb#W0sdnNjb2RlLXJlbW90ZQ%3D%3D?line=12'>13</a>\u001b[0m \u001b[39m#     'messages': raw_dataset['chosen'] + raw_dataset['rejected']\u001b[39;00m\n\u001b[1;32m     <a href='vscode-notebook-cell://ssh-remote%2B192.168.1.7/home/jlpang/QualityDPO/extract_sft_dataset.ipynb#W0sdnNjb2RlLXJlbW90ZQ%3D%3D?line=13'>14</a>\u001b[0m \u001b[39m#     })\u001b[39;00m\n",
      "File \u001b[0;32m~/QualityDPO/venv/lib/python3.10/site-packages/datasets/dataset_dict.py:81\u001b[0m, in \u001b[0;36mDatasetDict.__getitem__\u001b[0;34m(self, k)\u001b[0m\n\u001b[1;32m     79\u001b[0m \u001b[39mdef\u001b[39;00m\u001b[39m \u001b[39m\u001b[39m__getitem__\u001b[39m(\u001b[39mself\u001b[39m, k) \u001b[39m-\u001b[39m\u001b[39m>\u001b[39m Dataset:\n\u001b[1;32m     80\u001b[0m     \u001b[39mif\u001b[39;00m \u001b[39misinstance\u001b[39m(k, (\u001b[39mstr\u001b[39m, NamedSplit)) \u001b[39mor\u001b[39;00m \u001b[39mlen\u001b[39m(\u001b[39mself\u001b[39m) \u001b[39m==\u001b[39m \u001b[39m0\u001b[39m:\n\u001b[0;32m---> 81\u001b[0m         \u001b[39mreturn\u001b[39;00m \u001b[39msuper\u001b[39;49m()\u001b[39m.\u001b[39;49m\u001b[39m__getitem__\u001b[39;49m(k)\n\u001b[1;32m     82\u001b[0m     \u001b[39melse\u001b[39;00m:\n\u001b[1;32m     83\u001b[0m         available_suggested_splits \u001b[39m=\u001b[39m [\n\u001b[1;32m     84\u001b[0m             split \u001b[39mfor\u001b[39;00m split \u001b[39min\u001b[39;00m (Split\u001b[39m.\u001b[39mTRAIN, Split\u001b[39m.\u001b[39mTEST, Split\u001b[39m.\u001b[39mVALIDATION) \u001b[39mif\u001b[39;00m split \u001b[39min\u001b[39;00m \u001b[39mself\u001b[39m\n\u001b[1;32m     85\u001b[0m         ]\n",
      "\u001b[0;31mKeyError\u001b[0m: 'train'"
     ]
    }
   ],
   "source": [
    "from datasets import load_dataset, load_from_disk, DatasetDict, Dataset\n",
    "\n",
    "\n",
    "dataset_name = \"HuggingFaceH4/ultrafeedback_binarized\"\n",
    "\n",
    "raw_dataset = load_dataset(dataset_name)['train_prefs']\n",
    "test_dataset = load_dataset(dataset_name)['test']\n",
    "\n",
    "\n",
    "# raw_dataset = Dataset.from_dict({\n",
    "#     'prompt': raw_dataset['prompt'] *2,\n",
    "#     'prompt_id': list(range(len(raw_dataset['prompt'] *2))),\n",
    "#     'messages': raw_dataset['chosen'] + raw_dataset['rejected']\n",
    "#     })\n",
    "\n",
    "raw_dataset = Dataset.from_dict({\n",
    "    'prompt': raw_dataset['prompt'],\n",
    "    'prompt_id': list(range(len(raw_dataset['prompt']))),\n",
    "    # 'messages': raw_dataset['chosen'],\n",
    "    'messages': raw_dataset['rejected'],\n",
    "    })\n",
    "\n",
    "required_columns = ['prompt', 'prompt_id', 'messages']\n",
    "\n",
    "raw_dataset = raw_dataset.remove_columns([column_name for column_name in raw_dataset.column_names if column_name not in required_columns ])\n",
    "test_dataset = test_dataset.remove_columns([column_name for column_name in test_dataset.column_names if column_name not in required_columns ])\n",
    "\n",
    "\n",
    "# new_dataset = DatasetDict({\n",
    "#     'train': raw_dataset.shuffle(seed=42),\n",
    "#     'test': test_dataset\n",
    "# })\n",
    "\n",
    "\n",
    "\n",
    "raw_dataset.to_json(\"ultrafeedback-sft-chosen.json\")\n",
    "# new_dataset.push_to_hub(\"jlpang888/ultrafeedback-sft-identical-pairs-7387-rejected\")\n",
    "# new_dataset.push_to_hub(\"jlpang888/ultrafeedback-sft-chosen\")"
   ]
  }
 ],
 "metadata": {
  "kernelspec": {
   "display_name": "venv",
   "language": "python",
   "name": "python3"
  },
  "language_info": {
   "codemirror_mode": {
    "name": "ipython",
    "version": 3
   },
   "file_extension": ".py",
   "mimetype": "text/x-python",
   "name": "python",
   "nbconvert_exporter": "python",
   "pygments_lexer": "ipython3",
   "version": "3.10.12"
  }
 },
 "nbformat": 4,
 "nbformat_minor": 2
}
